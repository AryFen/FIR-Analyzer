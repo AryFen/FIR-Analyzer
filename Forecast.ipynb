{
 "cells": [
  {
   "cell_type": "code",
   "execution_count": 3,
   "id": "1ea2f308-c566-45bc-a859-e7415b8b01ef",
   "metadata": {
    "scrolled": true
   },
   "outputs": [
    {
     "name": "stdout",
     "output_type": "stream",
     "text": [
      "Collecting tensorflow\n",
      "  Downloading tensorflow-2.18.0-cp312-cp312-win_amd64.whl.metadata (3.3 kB)\n",
      "Collecting tensorflow-intel==2.18.0 (from tensorflow)\n",
      "  Downloading tensorflow_intel-2.18.0-cp312-cp312-win_amd64.whl.metadata (4.9 kB)\n",
      "Collecting absl-py>=1.0.0 (from tensorflow-intel==2.18.0->tensorflow)\n",
      "  Downloading absl_py-2.1.0-py3-none-any.whl.metadata (2.3 kB)\n",
      "Collecting astunparse>=1.6.0 (from tensorflow-intel==2.18.0->tensorflow)\n",
      "  Downloading astunparse-1.6.3-py2.py3-none-any.whl.metadata (4.4 kB)\n",
      "Collecting flatbuffers>=24.3.25 (from tensorflow-intel==2.18.0->tensorflow)\n",
      "  Using cached flatbuffers-24.3.25-py2.py3-none-any.whl.metadata (850 bytes)\n",
      "Collecting gast!=0.5.0,!=0.5.1,!=0.5.2,>=0.2.1 (from tensorflow-intel==2.18.0->tensorflow)\n",
      "  Downloading gast-0.6.0-py3-none-any.whl.metadata (1.3 kB)\n",
      "Collecting google-pasta>=0.1.1 (from tensorflow-intel==2.18.0->tensorflow)\n",
      "  Downloading google_pasta-0.2.0-py3-none-any.whl.metadata (814 bytes)\n",
      "Collecting libclang>=13.0.0 (from tensorflow-intel==2.18.0->tensorflow)\n",
      "  Downloading libclang-18.1.1-py2.py3-none-win_amd64.whl.metadata (5.3 kB)\n",
      "Collecting opt-einsum>=2.3.2 (from tensorflow-intel==2.18.0->tensorflow)\n",
      "  Downloading opt_einsum-3.4.0-py3-none-any.whl.metadata (6.3 kB)\n",
      "Requirement already satisfied: packaging in c:\\users\\s\\appdata\\roaming\\python\\python312\\site-packages (from tensorflow-intel==2.18.0->tensorflow) (24.2)\n",
      "Requirement already satisfied: protobuf!=4.21.0,!=4.21.1,!=4.21.2,!=4.21.3,!=4.21.4,!=4.21.5,<6.0.0dev,>=3.20.3 in c:\\users\\s\\anaconda3\\lib\\site-packages (from tensorflow-intel==2.18.0->tensorflow) (4.25.3)\n",
      "Requirement already satisfied: requests<3,>=2.21.0 in c:\\users\\s\\appdata\\roaming\\python\\python312\\site-packages (from tensorflow-intel==2.18.0->tensorflow) (2.32.3)\n",
      "Requirement already satisfied: setuptools in c:\\users\\s\\appdata\\roaming\\python\\python312\\site-packages (from tensorflow-intel==2.18.0->tensorflow) (75.3.0)\n",
      "Requirement already satisfied: six>=1.12.0 in c:\\users\\s\\appdata\\roaming\\python\\python312\\site-packages (from tensorflow-intel==2.18.0->tensorflow) (1.16.0)\n",
      "Collecting termcolor>=1.1.0 (from tensorflow-intel==2.18.0->tensorflow)\n",
      "  Downloading termcolor-2.5.0-py3-none-any.whl.metadata (6.1 kB)\n",
      "Requirement already satisfied: typing-extensions>=3.6.6 in c:\\users\\s\\anaconda3\\lib\\site-packages (from tensorflow-intel==2.18.0->tensorflow) (4.11.0)\n",
      "Requirement already satisfied: wrapt>=1.11.0 in c:\\users\\s\\anaconda3\\lib\\site-packages (from tensorflow-intel==2.18.0->tensorflow) (1.14.1)\n",
      "Collecting grpcio<2.0,>=1.24.3 (from tensorflow-intel==2.18.0->tensorflow)\n",
      "  Downloading grpcio-1.68.0-cp312-cp312-win_amd64.whl.metadata (4.0 kB)\n",
      "Collecting tensorboard<2.19,>=2.18 (from tensorflow-intel==2.18.0->tensorflow)\n",
      "  Downloading tensorboard-2.18.0-py3-none-any.whl.metadata (1.6 kB)\n",
      "Collecting keras>=3.5.0 (from tensorflow-intel==2.18.0->tensorflow)\n",
      "  Downloading keras-3.7.0-py3-none-any.whl.metadata (5.8 kB)\n",
      "Requirement already satisfied: numpy<2.1.0,>=1.26.0 in c:\\users\\s\\anaconda3\\lib\\site-packages (from tensorflow-intel==2.18.0->tensorflow) (1.26.4)\n",
      "Requirement already satisfied: h5py>=3.11.0 in c:\\users\\s\\anaconda3\\lib\\site-packages (from tensorflow-intel==2.18.0->tensorflow) (3.11.0)\n",
      "Collecting ml-dtypes<0.5.0,>=0.4.0 (from tensorflow-intel==2.18.0->tensorflow)\n",
      "  Downloading ml_dtypes-0.4.1-cp312-cp312-win_amd64.whl.metadata (20 kB)\n",
      "Requirement already satisfied: wheel<1.0,>=0.23.0 in c:\\users\\s\\anaconda3\\lib\\site-packages (from astunparse>=1.6.0->tensorflow-intel==2.18.0->tensorflow) (0.44.0)\n",
      "Requirement already satisfied: rich in c:\\users\\s\\anaconda3\\lib\\site-packages (from keras>=3.5.0->tensorflow-intel==2.18.0->tensorflow) (13.7.1)\n",
      "Collecting namex (from keras>=3.5.0->tensorflow-intel==2.18.0->tensorflow)\n",
      "  Downloading namex-0.0.8-py3-none-any.whl.metadata (246 bytes)\n",
      "Collecting optree (from keras>=3.5.0->tensorflow-intel==2.18.0->tensorflow)\n",
      "  Downloading optree-0.13.1-cp312-cp312-win_amd64.whl.metadata (48 kB)\n",
      "Requirement already satisfied: charset-normalizer<4,>=2 in c:\\users\\s\\appdata\\roaming\\python\\python312\\site-packages (from requests<3,>=2.21.0->tensorflow-intel==2.18.0->tensorflow) (3.4.0)\n",
      "Requirement already satisfied: idna<4,>=2.5 in c:\\users\\s\\appdata\\roaming\\python\\python312\\site-packages (from requests<3,>=2.21.0->tensorflow-intel==2.18.0->tensorflow) (3.10)\n",
      "Requirement already satisfied: urllib3<3,>=1.21.1 in c:\\users\\s\\appdata\\roaming\\python\\python312\\site-packages (from requests<3,>=2.21.0->tensorflow-intel==2.18.0->tensorflow) (2.2.3)\n",
      "Requirement already satisfied: certifi>=2017.4.17 in c:\\users\\s\\appdata\\roaming\\python\\python312\\site-packages (from requests<3,>=2.21.0->tensorflow-intel==2.18.0->tensorflow) (2024.8.30)\n",
      "Requirement already satisfied: markdown>=2.6.8 in c:\\users\\s\\anaconda3\\lib\\site-packages (from tensorboard<2.19,>=2.18->tensorflow-intel==2.18.0->tensorflow) (3.4.1)\n",
      "Collecting tensorboard-data-server<0.8.0,>=0.7.0 (from tensorboard<2.19,>=2.18->tensorflow-intel==2.18.0->tensorflow)\n",
      "  Downloading tensorboard_data_server-0.7.2-py3-none-any.whl.metadata (1.1 kB)\n",
      "Requirement already satisfied: werkzeug>=1.0.1 in c:\\users\\s\\anaconda3\\lib\\site-packages (from tensorboard<2.19,>=2.18->tensorflow-intel==2.18.0->tensorflow) (3.0.3)\n",
      "Requirement already satisfied: MarkupSafe>=2.1.1 in c:\\users\\s\\appdata\\roaming\\python\\python312\\site-packages (from werkzeug>=1.0.1->tensorboard<2.19,>=2.18->tensorflow-intel==2.18.0->tensorflow) (3.0.2)\n",
      "Requirement already satisfied: markdown-it-py>=2.2.0 in c:\\users\\s\\anaconda3\\lib\\site-packages (from rich->keras>=3.5.0->tensorflow-intel==2.18.0->tensorflow) (2.2.0)\n",
      "Requirement already satisfied: pygments<3.0.0,>=2.13.0 in c:\\users\\s\\appdata\\roaming\\python\\python312\\site-packages (from rich->keras>=3.5.0->tensorflow-intel==2.18.0->tensorflow) (2.18.0)\n",
      "Requirement already satisfied: mdurl~=0.1 in c:\\users\\s\\anaconda3\\lib\\site-packages (from markdown-it-py>=2.2.0->rich->keras>=3.5.0->tensorflow-intel==2.18.0->tensorflow) (0.1.0)\n",
      "Downloading tensorflow-2.18.0-cp312-cp312-win_amd64.whl (7.5 kB)\n",
      "Downloading tensorflow_intel-2.18.0-cp312-cp312-win_amd64.whl (390.3 MB)\n",
      "   ---------------------------------------- 0.0/390.3 MB ? eta -:--:--\n",
      "    --------------------------------------- 5.0/390.3 MB 25.1 MB/s eta 0:00:16\n",
      "   - -------------------------------------- 10.2/390.3 MB 24.5 MB/s eta 0:00:16\n",
      "   - -------------------------------------- 15.5/390.3 MB 24.9 MB/s eta 0:00:16\n",
      "   -- ------------------------------------- 20.7/390.3 MB 24.7 MB/s eta 0:00:15\n",
      "   -- ------------------------------------- 25.7/390.3 MB 24.6 MB/s eta 0:00:15\n",
      "   --- ------------------------------------ 30.7/390.3 MB 24.6 MB/s eta 0:00:15\n",
      "   --- ------------------------------------ 36.2/390.3 MB 24.7 MB/s eta 0:00:15\n",
      "   ---- ----------------------------------- 41.4/390.3 MB 24.8 MB/s eta 0:00:15\n",
      "   ---- ----------------------------------- 46.4/390.3 MB 24.8 MB/s eta 0:00:14\n",
      "   ----- ---------------------------------- 51.6/390.3 MB 24.7 MB/s eta 0:00:14\n",
      "   ----- ---------------------------------- 56.9/390.3 MB 24.8 MB/s eta 0:00:14\n",
      "   ------ --------------------------------- 61.9/390.3 MB 24.8 MB/s eta 0:00:14\n",
      "   ------ --------------------------------- 67.4/390.3 MB 24.8 MB/s eta 0:00:14\n",
      "   ------- -------------------------------- 72.4/390.3 MB 24.8 MB/s eta 0:00:13\n",
      "   ------- -------------------------------- 77.3/390.3 MB 24.8 MB/s eta 0:00:13\n",
      "   -------- ------------------------------- 82.3/390.3 MB 24.8 MB/s eta 0:00:13\n",
      "   -------- ------------------------------- 87.6/390.3 MB 24.8 MB/s eta 0:00:13\n",
      "   --------- ------------------------------ 92.8/390.3 MB 24.8 MB/s eta 0:00:13\n",
      "   ---------- ----------------------------- 98.3/390.3 MB 24.8 MB/s eta 0:00:12\n",
      "   ---------- ---------------------------- 103.5/390.3 MB 24.8 MB/s eta 0:00:12\n",
      "   ---------- ---------------------------- 108.8/390.3 MB 24.8 MB/s eta 0:00:12\n",
      "   ----------- --------------------------- 113.8/390.3 MB 24.8 MB/s eta 0:00:12\n",
      "   ----------- --------------------------- 118.8/390.3 MB 24.8 MB/s eta 0:00:11\n",
      "   ------------ -------------------------- 124.0/390.3 MB 24.8 MB/s eta 0:00:11\n",
      "   ------------ -------------------------- 129.0/390.3 MB 24.8 MB/s eta 0:00:11\n",
      "   ------------- ------------------------- 134.2/390.3 MB 24.8 MB/s eta 0:00:11\n",
      "   ------------- ------------------------- 139.2/390.3 MB 24.8 MB/s eta 0:00:11\n",
      "   -------------- ------------------------ 144.4/390.3 MB 24.8 MB/s eta 0:00:10\n",
      "   -------------- ------------------------ 149.4/390.3 MB 24.8 MB/s eta 0:00:10\n",
      "   --------------- ----------------------- 154.7/390.3 MB 24.8 MB/s eta 0:00:10\n",
      "   --------------- ----------------------- 159.9/390.3 MB 24.8 MB/s eta 0:00:10\n",
      "   ---------------- ---------------------- 164.9/390.3 MB 24.8 MB/s eta 0:00:10\n",
      "   ----------------- --------------------- 170.1/390.3 MB 24.8 MB/s eta 0:00:09\n",
      "   ----------------- --------------------- 175.1/390.3 MB 24.8 MB/s eta 0:00:09\n",
      "   ------------------ -------------------- 180.4/390.3 MB 24.8 MB/s eta 0:00:09\n",
      "   ------------------ -------------------- 185.3/390.3 MB 24.8 MB/s eta 0:00:09\n",
      "   ------------------- ------------------- 190.6/390.3 MB 24.8 MB/s eta 0:00:09\n",
      "   ------------------- ------------------- 195.6/390.3 MB 24.8 MB/s eta 0:00:08\n",
      "   -------------------- ------------------ 201.1/390.3 MB 24.8 MB/s eta 0:00:08\n",
      "   -------------------- ------------------ 206.0/390.3 MB 24.8 MB/s eta 0:00:08\n",
      "   --------------------- ----------------- 211.0/390.3 MB 24.8 MB/s eta 0:00:08\n",
      "   --------------------- ----------------- 216.3/390.3 MB 24.8 MB/s eta 0:00:08\n",
      "   ---------------------- ---------------- 221.2/390.3 MB 24.8 MB/s eta 0:00:07\n",
      "   ---------------------- ---------------- 226.5/390.3 MB 24.8 MB/s eta 0:00:07\n",
      "   ----------------------- --------------- 231.5/390.3 MB 24.8 MB/s eta 0:00:07\n",
      "   ----------------------- --------------- 236.7/390.3 MB 24.8 MB/s eta 0:00:07\n",
      "   ------------------------ -------------- 242.0/390.3 MB 24.8 MB/s eta 0:00:06\n",
      "   ------------------------ -------------- 246.9/390.3 MB 24.8 MB/s eta 0:00:06\n",
      "   ------------------------- ------------- 251.9/390.3 MB 24.8 MB/s eta 0:00:06\n",
      "   ------------------------- ------------- 257.4/390.3 MB 24.8 MB/s eta 0:00:06\n",
      "   -------------------------- ------------ 262.4/390.3 MB 24.8 MB/s eta 0:00:06\n",
      "   -------------------------- ------------ 267.9/390.3 MB 24.8 MB/s eta 0:00:05\n",
      "   --------------------------- ----------- 273.2/390.3 MB 24.8 MB/s eta 0:00:05\n",
      "   --------------------------- ----------- 278.7/390.3 MB 24.8 MB/s eta 0:00:05\n",
      "   ---------------------------- ---------- 283.9/390.3 MB 24.8 MB/s eta 0:00:05\n",
      "   ---------------------------- ---------- 289.4/390.3 MB 24.9 MB/s eta 0:00:05\n",
      "   ----------------------------- --------- 294.4/390.3 MB 24.8 MB/s eta 0:00:04\n",
      "   ----------------------------- --------- 299.6/390.3 MB 24.8 MB/s eta 0:00:04\n",
      "   ------------------------------ -------- 304.9/390.3 MB 24.8 MB/s eta 0:00:04\n",
      "   ------------------------------- ------- 310.4/390.3 MB 24.8 MB/s eta 0:00:04\n",
      "   ------------------------------- ------- 315.6/390.3 MB 24.8 MB/s eta 0:00:04\n",
      "   -------------------------------- ------ 320.6/390.3 MB 24.8 MB/s eta 0:00:03\n",
      "   -------------------------------- ------ 325.8/390.3 MB 24.8 MB/s eta 0:00:03\n",
      "   --------------------------------- ----- 331.1/390.3 MB 24.8 MB/s eta 0:00:03\n",
      "   --------------------------------- ----- 336.6/390.3 MB 24.8 MB/s eta 0:00:03\n",
      "   ---------------------------------- ---- 341.8/390.3 MB 24.8 MB/s eta 0:00:02\n",
      "   ---------------------------------- ---- 346.8/390.3 MB 24.8 MB/s eta 0:00:02\n",
      "   ----------------------------------- --- 351.8/390.3 MB 24.8 MB/s eta 0:00:02\n",
      "   ----------------------------------- --- 357.0/390.3 MB 24.8 MB/s eta 0:00:02\n",
      "   ------------------------------------ -- 362.0/390.3 MB 24.8 MB/s eta 0:00:02\n",
      "   ------------------------------------ -- 367.0/390.3 MB 24.8 MB/s eta 0:00:01\n",
      "   ------------------------------------- - 372.0/390.3 MB 24.8 MB/s eta 0:00:01\n",
      "   ------------------------------------- - 377.2/390.3 MB 24.8 MB/s eta 0:00:01\n",
      "   --------------------------------------  382.2/390.3 MB 24.8 MB/s eta 0:00:01\n",
      "   --------------------------------------  387.4/390.3 MB 24.8 MB/s eta 0:00:01\n",
      "   --------------------------------------  390.1/390.3 MB 24.8 MB/s eta 0:00:01\n",
      "   --------------------------------------  390.1/390.3 MB 24.8 MB/s eta 0:00:01\n",
      "   --------------------------------------  390.1/390.3 MB 24.8 MB/s eta 0:00:01\n",
      "   --------------------------------------- 390.3/390.3 MB 23.2 MB/s eta 0:00:00\n",
      "Downloading absl_py-2.1.0-py3-none-any.whl (133 kB)\n",
      "Downloading astunparse-1.6.3-py2.py3-none-any.whl (12 kB)\n",
      "Using cached flatbuffers-24.3.25-py2.py3-none-any.whl (26 kB)\n",
      "Downloading gast-0.6.0-py3-none-any.whl (21 kB)\n",
      "Downloading google_pasta-0.2.0-py3-none-any.whl (57 kB)\n",
      "Downloading grpcio-1.68.0-cp312-cp312-win_amd64.whl (4.4 MB)\n",
      "   ---------------------------------------- 0.0/4.4 MB ? eta -:--:--\n",
      "   ------------------------------- -------- 3.4/4.4 MB 20.2 MB/s eta 0:00:01\n",
      "   ---------------------------------------- 4.4/4.4 MB 18.9 MB/s eta 0:00:00\n",
      "Downloading keras-3.7.0-py3-none-any.whl (1.2 MB)\n",
      "   ---------------------------------------- 0.0/1.2 MB ? eta -:--:--\n",
      "   ---------------------------------------- 1.2/1.2 MB 20.6 MB/s eta 0:00:00\n",
      "Downloading libclang-18.1.1-py2.py3-none-win_amd64.whl (26.4 MB)\n",
      "   ---------------------------------------- 0.0/26.4 MB ? eta -:--:--\n",
      "   ------- -------------------------------- 5.0/26.4 MB 25.2 MB/s eta 0:00:01\n",
      "   --------------- ------------------------ 10.5/26.4 MB 25.2 MB/s eta 0:00:01\n",
      "   ------------------------ --------------- 16.0/26.4 MB 25.2 MB/s eta 0:00:01\n",
      "   ------------------------------- -------- 21.0/26.4 MB 25.0 MB/s eta 0:00:01\n",
      "   ---------------------------------------  26.0/26.4 MB 24.9 MB/s eta 0:00:01\n",
      "   ---------------------------------------- 26.4/26.4 MB 23.9 MB/s eta 0:00:00\n",
      "Downloading ml_dtypes-0.4.1-cp312-cp312-win_amd64.whl (127 kB)\n",
      "Downloading opt_einsum-3.4.0-py3-none-any.whl (71 kB)\n",
      "Downloading tensorboard-2.18.0-py3-none-any.whl (5.5 MB)\n",
      "   ---------------------------------------- 0.0/5.5 MB ? eta -:--:--\n",
      "   ------------------------------------ --- 5.0/5.5 MB 25.1 MB/s eta 0:00:01\n",
      "   ---------------------------------------- 5.5/5.5 MB 22.3 MB/s eta 0:00:00\n",
      "Downloading termcolor-2.5.0-py3-none-any.whl (7.8 kB)\n",
      "Downloading tensorboard_data_server-0.7.2-py3-none-any.whl (2.4 kB)\n",
      "Downloading namex-0.0.8-py3-none-any.whl (5.8 kB)\n",
      "Downloading optree-0.13.1-cp312-cp312-win_amd64.whl (292 kB)\n",
      "Installing collected packages: namex, libclang, flatbuffers, termcolor, tensorboard-data-server, optree, opt-einsum, ml-dtypes, grpcio, google-pasta, gast, astunparse, absl-py, tensorboard, keras, tensorflow-intel, tensorflow\n",
      "Successfully installed absl-py-2.1.0 astunparse-1.6.3 flatbuffers-24.3.25 gast-0.6.0 google-pasta-0.2.0 grpcio-1.68.0 keras-3.7.0 libclang-18.1.1 ml-dtypes-0.4.1 namex-0.0.8 opt-einsum-3.4.0 optree-0.13.1 tensorboard-2.18.0 tensorboard-data-server-0.7.2 tensorflow-2.18.0 tensorflow-intel-2.18.0 termcolor-2.5.0\n"
     ]
    }
   ],
   "source": [
    "!pip install tensorflow"
   ]
  },
  {
   "cell_type": "code",
   "execution_count": 5,
   "id": "5de7a7dd-198f-41e4-96e8-f9e73a04a3cd",
   "metadata": {},
   "outputs": [],
   "source": [
    "import pandas as pd\n",
    "import numpy as np\n",
    "from tensorflow.keras.models import Sequential\n",
    "from tensorflow.keras.layers import LSTM, Dense, Dropout\n",
    "from tensorflow.keras.optimizers import Adam\n",
    "from sklearn.preprocessing import StandardScaler\n",
    "import matplotlib.pyplot as plt"
   ]
  },
  {
   "cell_type": "code",
   "execution_count": 24,
   "id": "762b6d1e-2e21-40ae-b808-8646f293e4be",
   "metadata": {},
   "outputs": [],
   "source": [
    "data = pd.read_csv('FinalData.csv')"
   ]
  },
  {
   "cell_type": "markdown",
   "id": "1522ba53-06a2-4418-926e-927bd4b26e70",
   "metadata": {},
   "source": [
    "#### Display of Dataset"
   ]
  },
  {
   "cell_type": "code",
   "execution_count": 27,
   "id": "b776ffd3-1812-453e-8f93-57e0c8c6dfd9",
   "metadata": {},
   "outputs": [
    {
     "data": {
      "text/html": [
       "<div>\n",
       "<style scoped>\n",
       "    .dataframe tbody tr th:only-of-type {\n",
       "        vertical-align: middle;\n",
       "    }\n",
       "\n",
       "    .dataframe tbody tr th {\n",
       "        vertical-align: top;\n",
       "    }\n",
       "\n",
       "    .dataframe thead th {\n",
       "        text-align: right;\n",
       "    }\n",
       "</style>\n",
       "<table border=\"1\" class=\"dataframe\">\n",
       "  <thead>\n",
       "    <tr style=\"text-align: right;\">\n",
       "      <th></th>\n",
       "      <th>Unnamed: 0</th>\n",
       "      <th>FIPS</th>\n",
       "      <th>County</th>\n",
       "      <th>Year</th>\n",
       "      <th>FIR</th>\n",
       "      <th>IncomePerCapita</th>\n",
       "      <th>FinalUR</th>\n",
       "      <th>FinalCPM</th>\n",
       "      <th>MajorityRace</th>\n",
       "    </tr>\n",
       "  </thead>\n",
       "  <tbody>\n",
       "    <tr>\n",
       "      <th>0</th>\n",
       "      <td>0</td>\n",
       "      <td>1001</td>\n",
       "      <td>Autauga, Alabama</td>\n",
       "      <td>2021</td>\n",
       "      <td>13.3</td>\n",
       "      <td>48347.0</td>\n",
       "      <td>2.8</td>\n",
       "      <td>3.60</td>\n",
       "      <td>White</td>\n",
       "    </tr>\n",
       "    <tr>\n",
       "      <th>1</th>\n",
       "      <td>1</td>\n",
       "      <td>1003</td>\n",
       "      <td>Baldwin, Alabama</td>\n",
       "      <td>2021</td>\n",
       "      <td>11.8</td>\n",
       "      <td>54659.0</td>\n",
       "      <td>2.9</td>\n",
       "      <td>4.07</td>\n",
       "      <td>White</td>\n",
       "    </tr>\n",
       "    <tr>\n",
       "      <th>2</th>\n",
       "      <td>2</td>\n",
       "      <td>1005</td>\n",
       "      <td>Barbour, Alabama</td>\n",
       "      <td>2021</td>\n",
       "      <td>17.8</td>\n",
       "      <td>40428.0</td>\n",
       "      <td>5.5</td>\n",
       "      <td>3.46</td>\n",
       "      <td>White</td>\n",
       "    </tr>\n",
       "    <tr>\n",
       "      <th>3</th>\n",
       "      <td>3</td>\n",
       "      <td>1007</td>\n",
       "      <td>Bibb, Alabama</td>\n",
       "      <td>2021</td>\n",
       "      <td>14.9</td>\n",
       "      <td>36892.0</td>\n",
       "      <td>3.4</td>\n",
       "      <td>3.29</td>\n",
       "      <td>White</td>\n",
       "    </tr>\n",
       "    <tr>\n",
       "      <th>4</th>\n",
       "      <td>4</td>\n",
       "      <td>1009</td>\n",
       "      <td>Blount, Alabama</td>\n",
       "      <td>2021</td>\n",
       "      <td>13.7</td>\n",
       "      <td>42634.0</td>\n",
       "      <td>2.4</td>\n",
       "      <td>3.24</td>\n",
       "      <td>White</td>\n",
       "    </tr>\n",
       "    <tr>\n",
       "      <th>...</th>\n",
       "      <td>...</td>\n",
       "      <td>...</td>\n",
       "      <td>...</td>\n",
       "      <td>...</td>\n",
       "      <td>...</td>\n",
       "      <td>...</td>\n",
       "      <td>...</td>\n",
       "      <td>...</td>\n",
       "      <td>...</td>\n",
       "    </tr>\n",
       "    <tr>\n",
       "      <th>34562</th>\n",
       "      <td>34562</td>\n",
       "      <td>56037</td>\n",
       "      <td>Sweetwater, Wyoming</td>\n",
       "      <td>2011</td>\n",
       "      <td>10.9</td>\n",
       "      <td>47924.0</td>\n",
       "      <td>5.6</td>\n",
       "      <td>2.71</td>\n",
       "      <td>White</td>\n",
       "    </tr>\n",
       "    <tr>\n",
       "      <th>34563</th>\n",
       "      <td>34563</td>\n",
       "      <td>56039</td>\n",
       "      <td>Teton, Wyoming</td>\n",
       "      <td>2011</td>\n",
       "      <td>13.5</td>\n",
       "      <td>152328.0</td>\n",
       "      <td>8.0</td>\n",
       "      <td>3.84</td>\n",
       "      <td>White</td>\n",
       "    </tr>\n",
       "    <tr>\n",
       "      <th>34564</th>\n",
       "      <td>34564</td>\n",
       "      <td>56041</td>\n",
       "      <td>Uinta, Wyoming</td>\n",
       "      <td>2011</td>\n",
       "      <td>11.5</td>\n",
       "      <td>40668.0</td>\n",
       "      <td>6.6</td>\n",
       "      <td>2.49</td>\n",
       "      <td>White</td>\n",
       "    </tr>\n",
       "    <tr>\n",
       "      <th>34565</th>\n",
       "      <td>34565</td>\n",
       "      <td>56043</td>\n",
       "      <td>Washakie, Wyoming</td>\n",
       "      <td>2011</td>\n",
       "      <td>11.7</td>\n",
       "      <td>42857.0</td>\n",
       "      <td>5.9</td>\n",
       "      <td>2.77</td>\n",
       "      <td>White</td>\n",
       "    </tr>\n",
       "    <tr>\n",
       "      <th>34566</th>\n",
       "      <td>34566</td>\n",
       "      <td>56045</td>\n",
       "      <td>Weston, Wyoming</td>\n",
       "      <td>2011</td>\n",
       "      <td>11.6</td>\n",
       "      <td>41072.0</td>\n",
       "      <td>4.8</td>\n",
       "      <td>2.68</td>\n",
       "      <td>White</td>\n",
       "    </tr>\n",
       "  </tbody>\n",
       "</table>\n",
       "<p>34567 rows × 9 columns</p>\n",
       "</div>"
      ],
      "text/plain": [
       "       Unnamed: 0   FIPS               County  Year   FIR  IncomePerCapita  \\\n",
       "0               0   1001     Autauga, Alabama  2021  13.3          48347.0   \n",
       "1               1   1003     Baldwin, Alabama  2021  11.8          54659.0   \n",
       "2               2   1005     Barbour, Alabama  2021  17.8          40428.0   \n",
       "3               3   1007        Bibb, Alabama  2021  14.9          36892.0   \n",
       "4               4   1009      Blount, Alabama  2021  13.7          42634.0   \n",
       "...           ...    ...                  ...   ...   ...              ...   \n",
       "34562       34562  56037  Sweetwater, Wyoming  2011  10.9          47924.0   \n",
       "34563       34563  56039       Teton, Wyoming  2011  13.5         152328.0   \n",
       "34564       34564  56041       Uinta, Wyoming  2011  11.5          40668.0   \n",
       "34565       34565  56043    Washakie, Wyoming  2011  11.7          42857.0   \n",
       "34566       34566  56045      Weston, Wyoming  2011  11.6          41072.0   \n",
       "\n",
       "       FinalUR  FinalCPM MajorityRace  \n",
       "0          2.8      3.60        White  \n",
       "1          2.9      4.07        White  \n",
       "2          5.5      3.46        White  \n",
       "3          3.4      3.29        White  \n",
       "4          2.4      3.24        White  \n",
       "...        ...       ...          ...  \n",
       "34562      5.6      2.71        White  \n",
       "34563      8.0      3.84        White  \n",
       "34564      6.6      2.49        White  \n",
       "34565      5.9      2.77        White  \n",
       "34566      4.8      2.68        White  \n",
       "\n",
       "[34567 rows x 9 columns]"
      ]
     },
     "execution_count": 27,
     "metadata": {},
     "output_type": "execute_result"
    }
   ],
   "source": [
    "data"
   ]
  },
  {
   "cell_type": "code",
   "execution_count": 16,
   "id": "7292635a-7352-4309-a4c5-bf9939a80a32",
   "metadata": {},
   "outputs": [],
   "source": [
    "def prepareSequences(data, lookback = 3):\n",
    "    features = ['FIR', 'IncomePerCapita', 'FinalUR', 'FinalCPM']\n",
    "    for col in features:\n",
    "        data[col] = pd.to_numeric(data[col], errors = 'coerce')\n",
    "        \n",
    "    data['FIPS'] = data['FIPS'].astype(int)\n",
    "    data = data.sort_values(['FIPS', 'Year'])\n",
    "    scaler = StandardScaler()\n",
    "    data[features] = scaler.fit_transform(data[features])\n",
    "\n",
    "    X, y = [], []\n",
    "    for county in data['FIPS'].unique():\n",
    "        countyData = data[data['FIPS'] == county]\n",
    "        if len(countyData) < lookback + 1:\n",
    "            continue\n",
    "        for i in range(len(countyData) - lookback):\n",
    "            X.append(countyData[features].iloc[i : (i + lookback)].values)\n",
    "            y.append(countyData['FIR'].iloc[i + lookback])\n",
    "                     \n",
    "    return np.array(X), np.array(y), scaler"
   ]
  },
  {
   "cell_type": "code",
   "execution_count": 18,
   "id": "9e5b09fc-798d-40bf-9cd3-d44a20dd3431",
   "metadata": {},
   "outputs": [],
   "source": [
    "def createModel(lookback, n_features):\n",
    "    model = Sequential([\n",
    "        LSTM(64, input_shape=(lookback, n_features), return_sequences = True),\n",
    "        Dropout(0.2),\n",
    "        LSTM(32),\n",
    "        Dropout(0.2),\n",
    "        Dense(16, activation='relu'),\n",
    "        Dense(1)\n",
    "    ])\n",
    "    model.compile(optimizer=Adam(learning_rate=0.001), loss='mse')\n",
    "    return model"
   ]
  },
  {
   "cell_type": "code",
   "execution_count": 43,
   "id": "f89b2dd7-4f32-4d7f-b6ef-3ec28318ba3d",
   "metadata": {},
   "outputs": [],
   "source": [
    "def predictCounty(fipsCode, model, data, scaler, lookback = 3):\n",
    "    features = ['FIR', 'IncomePerCapita', 'FinalUR', 'FinalCPM']\n",
    "    countyData = data[data['FIPS'] == fipsCode].sort_values('Year')\n",
    "    countyData = countyData.tail(lookback)\n",
    "    if len(countyData) < lookback:\n",
    "        return None, \"Insufficient Data\"\n",
    "    countyData[features] = scaler.transform(countyData[features])\n",
    "    X = countyData[features].values.reshape(1, lookback, len(features))\n",
    "    pred_scaled = model.predict(X)\n",
    "    pred_reshaped = np.zeros((1, len(features)))\n",
    "    pred_reshaped[0, 0] = pred_scaled[0]\n",
    "    pred = scaler.inverse_transform(pred_reshaped)[0, 0]\n",
    "    return pred, None"
   ]
  },
  {
   "cell_type": "code",
   "execution_count": 31,
   "id": "e528b110-d4b7-40a7-bb17-05b7d183ec6b",
   "metadata": {},
   "outputs": [],
   "source": [
    "trainData = data[data['Year'] < 2021].copy()\n",
    "testData = data[data['Year'] == 2021]. copy()\n",
    "X_train, y_train, scaler = prepareSequences(trainData)\n",
    "n_features = X_train.shape[2]"
   ]
  },
  {
   "cell_type": "code",
   "execution_count": 33,
   "id": "9c0bc7da-3e61-4d72-bab2-d0e234e658ce",
   "metadata": {},
   "outputs": [
    {
     "name": "stderr",
     "output_type": "stream",
     "text": [
      "C:\\Users\\s\\anaconda3\\Lib\\site-packages\\keras\\src\\layers\\rnn\\rnn.py:200: UserWarning: Do not pass an `input_shape`/`input_dim` argument to a layer. When using Sequential models, prefer using an `Input(shape)` object as the first layer in the model instead.\n",
      "  super().__init__(**kwargs)\n"
     ]
    }
   ],
   "source": [
    "model = createModel(lookback = 3, n_features = n_features)"
   ]
  },
  {
   "cell_type": "code",
   "execution_count": 35,
   "id": "9460836c-43bc-4c18-816f-4cca68d8662d",
   "metadata": {},
   "outputs": [],
   "source": [
    "def evaluatePredictions(testData, model, trainData, scaler):\n",
    "    results = []\n",
    "    for county in testData['FIPS'].unique()[:20]:\n",
    "        pred, error = predictCounty(county, model, trainData, scaler)\n",
    "        if not error:\n",
    "            actual = testData[testData['FIPS'] == county]['FIR'].iloc[0]\n",
    "            results.append({\n",
    "                'county_id': county,\n",
    "                'actual': actual,\n",
    "                'predicted': pred,\n",
    "                'error': abs(actual - pred)\n",
    "            })\n",
    "    results_df = pd.DataFrame(results)\n",
    "    return results_df            "
   ]
  },
  {
   "cell_type": "code",
   "execution_count": 45,
   "id": "69c927a9-6829-4f42-9a42-ca9f9a19be8c",
   "metadata": {},
   "outputs": [
    {
     "name": "stdout",
     "output_type": "stream",
     "text": [
      "\u001b[1m1/1\u001b[0m \u001b[32m━━━━━━━━━━━━━━━━━━━━\u001b[0m\u001b[37m\u001b[0m \u001b[1m0s\u001b[0m 135ms/step\n",
      "\u001b[1m1/1\u001b[0m \u001b[32m━━━━━━━━━━━━━━━━━━━━\u001b[0m\u001b[37m\u001b[0m \u001b[1m0s\u001b[0m 45ms/step\n"
     ]
    },
    {
     "name": "stderr",
     "output_type": "stream",
     "text": [
      "C:\\Users\\s\\AppData\\Local\\Temp\\ipykernel_25444\\1054521108.py:11: DeprecationWarning: Conversion of an array with ndim > 0 to a scalar is deprecated, and will error in future. Ensure you extract a single element from your array before performing this operation. (Deprecated NumPy 1.25.)\n",
      "  pred_reshaped[0, 0] = pred_scaled[0]\n",
      "C:\\Users\\s\\AppData\\Local\\Temp\\ipykernel_25444\\1054521108.py:11: DeprecationWarning: Conversion of an array with ndim > 0 to a scalar is deprecated, and will error in future. Ensure you extract a single element from your array before performing this operation. (Deprecated NumPy 1.25.)\n",
      "  pred_reshaped[0, 0] = pred_scaled[0]\n"
     ]
    },
    {
     "name": "stdout",
     "output_type": "stream",
     "text": [
      "\u001b[1m1/1\u001b[0m \u001b[32m━━━━━━━━━━━━━━━━━━━━\u001b[0m\u001b[37m\u001b[0m \u001b[1m0s\u001b[0m 46ms/step\n",
      "\u001b[1m1/1\u001b[0m \u001b[32m━━━━━━━━━━━━━━━━━━━━\u001b[0m\u001b[37m\u001b[0m \u001b[1m0s\u001b[0m 44ms/step\n",
      "\u001b[1m1/1\u001b[0m \u001b[32m━━━━━━━━━━━━━━━━━━━━\u001b[0m\u001b[37m\u001b[0m \u001b[1m0s\u001b[0m 20ms/step"
     ]
    },
    {
     "name": "stderr",
     "output_type": "stream",
     "text": [
      "C:\\Users\\s\\AppData\\Local\\Temp\\ipykernel_25444\\1054521108.py:11: DeprecationWarning: Conversion of an array with ndim > 0 to a scalar is deprecated, and will error in future. Ensure you extract a single element from your array before performing this operation. (Deprecated NumPy 1.25.)\n",
      "  pred_reshaped[0, 0] = pred_scaled[0]\n",
      "C:\\Users\\s\\AppData\\Local\\Temp\\ipykernel_25444\\1054521108.py:11: DeprecationWarning: Conversion of an array with ndim > 0 to a scalar is deprecated, and will error in future. Ensure you extract a single element from your array before performing this operation. (Deprecated NumPy 1.25.)\n",
      "  pred_reshaped[0, 0] = pred_scaled[0]\n"
     ]
    },
    {
     "name": "stdout",
     "output_type": "stream",
     "text": [
      "\u001b[1m1/1\u001b[0m \u001b[32m━━━━━━━━━━━━━━━━━━━━\u001b[0m\u001b[37m\u001b[0m \u001b[1m0s\u001b[0m 45ms/step\n",
      "\u001b[1m1/1\u001b[0m \u001b[32m━━━━━━━━━━━━━━━━━━━━\u001b[0m\u001b[37m\u001b[0m \u001b[1m0s\u001b[0m 45ms/step\n",
      "\u001b[1m1/1\u001b[0m \u001b[32m━━━━━━━━━━━━━━━━━━━━\u001b[0m\u001b[37m\u001b[0m \u001b[1m0s\u001b[0m 21ms/step"
     ]
    },
    {
     "name": "stderr",
     "output_type": "stream",
     "text": [
      "C:\\Users\\s\\AppData\\Local\\Temp\\ipykernel_25444\\1054521108.py:11: DeprecationWarning: Conversion of an array with ndim > 0 to a scalar is deprecated, and will error in future. Ensure you extract a single element from your array before performing this operation. (Deprecated NumPy 1.25.)\n",
      "  pred_reshaped[0, 0] = pred_scaled[0]\n",
      "C:\\Users\\s\\AppData\\Local\\Temp\\ipykernel_25444\\1054521108.py:11: DeprecationWarning: Conversion of an array with ndim > 0 to a scalar is deprecated, and will error in future. Ensure you extract a single element from your array before performing this operation. (Deprecated NumPy 1.25.)\n",
      "  pred_reshaped[0, 0] = pred_scaled[0]\n"
     ]
    },
    {
     "name": "stdout",
     "output_type": "stream",
     "text": [
      "\u001b[1m1/1\u001b[0m \u001b[32m━━━━━━━━━━━━━━━━━━━━\u001b[0m\u001b[37m\u001b[0m \u001b[1m0s\u001b[0m 51ms/step\n",
      "\u001b[1m1/1\u001b[0m \u001b[32m━━━━━━━━━━━━━━━━━━━━\u001b[0m\u001b[37m\u001b[0m \u001b[1m0s\u001b[0m 44ms/step\n"
     ]
    },
    {
     "name": "stderr",
     "output_type": "stream",
     "text": [
      "C:\\Users\\s\\AppData\\Local\\Temp\\ipykernel_25444\\1054521108.py:11: DeprecationWarning: Conversion of an array with ndim > 0 to a scalar is deprecated, and will error in future. Ensure you extract a single element from your array before performing this operation. (Deprecated NumPy 1.25.)\n",
      "  pred_reshaped[0, 0] = pred_scaled[0]\n",
      "C:\\Users\\s\\AppData\\Local\\Temp\\ipykernel_25444\\1054521108.py:11: DeprecationWarning: Conversion of an array with ndim > 0 to a scalar is deprecated, and will error in future. Ensure you extract a single element from your array before performing this operation. (Deprecated NumPy 1.25.)\n",
      "  pred_reshaped[0, 0] = pred_scaled[0]\n"
     ]
    },
    {
     "name": "stdout",
     "output_type": "stream",
     "text": [
      "\u001b[1m1/1\u001b[0m \u001b[32m━━━━━━━━━━━━━━━━━━━━\u001b[0m\u001b[37m\u001b[0m \u001b[1m0s\u001b[0m 47ms/step\n",
      "\u001b[1m1/1\u001b[0m \u001b[32m━━━━━━━━━━━━━━━━━━━━\u001b[0m\u001b[37m\u001b[0m \u001b[1m0s\u001b[0m 42ms/step\n",
      "\u001b[1m1/1\u001b[0m \u001b[32m━━━━━━━━━━━━━━━━━━━━\u001b[0m\u001b[37m\u001b[0m \u001b[1m0s\u001b[0m 43ms/step\n"
     ]
    },
    {
     "name": "stderr",
     "output_type": "stream",
     "text": [
      "C:\\Users\\s\\AppData\\Local\\Temp\\ipykernel_25444\\1054521108.py:11: DeprecationWarning: Conversion of an array with ndim > 0 to a scalar is deprecated, and will error in future. Ensure you extract a single element from your array before performing this operation. (Deprecated NumPy 1.25.)\n",
      "  pred_reshaped[0, 0] = pred_scaled[0]\n",
      "C:\\Users\\s\\AppData\\Local\\Temp\\ipykernel_25444\\1054521108.py:11: DeprecationWarning: Conversion of an array with ndim > 0 to a scalar is deprecated, and will error in future. Ensure you extract a single element from your array before performing this operation. (Deprecated NumPy 1.25.)\n",
      "  pred_reshaped[0, 0] = pred_scaled[0]\n"
     ]
    },
    {
     "name": "stdout",
     "output_type": "stream",
     "text": [
      "\u001b[1m1/1\u001b[0m \u001b[32m━━━━━━━━━━━━━━━━━━━━\u001b[0m\u001b[37m\u001b[0m \u001b[1m0s\u001b[0m 41ms/step\n",
      "\u001b[1m1/1\u001b[0m \u001b[32m━━━━━━━━━━━━━━━━━━━━\u001b[0m\u001b[37m\u001b[0m \u001b[1m0s\u001b[0m 42ms/step\n"
     ]
    },
    {
     "name": "stderr",
     "output_type": "stream",
     "text": [
      "C:\\Users\\s\\AppData\\Local\\Temp\\ipykernel_25444\\1054521108.py:11: DeprecationWarning: Conversion of an array with ndim > 0 to a scalar is deprecated, and will error in future. Ensure you extract a single element from your array before performing this operation. (Deprecated NumPy 1.25.)\n",
      "  pred_reshaped[0, 0] = pred_scaled[0]\n",
      "C:\\Users\\s\\AppData\\Local\\Temp\\ipykernel_25444\\1054521108.py:11: DeprecationWarning: Conversion of an array with ndim > 0 to a scalar is deprecated, and will error in future. Ensure you extract a single element from your array before performing this operation. (Deprecated NumPy 1.25.)\n",
      "  pred_reshaped[0, 0] = pred_scaled[0]\n"
     ]
    },
    {
     "name": "stdout",
     "output_type": "stream",
     "text": [
      "\u001b[1m1/1\u001b[0m \u001b[32m━━━━━━━━━━━━━━━━━━━━\u001b[0m\u001b[37m\u001b[0m \u001b[1m0s\u001b[0m 41ms/step\n",
      "\u001b[1m1/1\u001b[0m \u001b[32m━━━━━━━━━━━━━━━━━━━━\u001b[0m\u001b[37m\u001b[0m \u001b[1m0s\u001b[0m 22ms/step"
     ]
    },
    {
     "name": "stderr",
     "output_type": "stream",
     "text": [
      "C:\\Users\\s\\AppData\\Local\\Temp\\ipykernel_25444\\1054521108.py:11: DeprecationWarning: Conversion of an array with ndim > 0 to a scalar is deprecated, and will error in future. Ensure you extract a single element from your array before performing this operation. (Deprecated NumPy 1.25.)\n",
      "  pred_reshaped[0, 0] = pred_scaled[0]\n",
      "C:\\Users\\s\\AppData\\Local\\Temp\\ipykernel_25444\\1054521108.py:11: DeprecationWarning: Conversion of an array with ndim > 0 to a scalar is deprecated, and will error in future. Ensure you extract a single element from your array before performing this operation. (Deprecated NumPy 1.25.)\n",
      "  pred_reshaped[0, 0] = pred_scaled[0]\n"
     ]
    },
    {
     "name": "stdout",
     "output_type": "stream",
     "text": [
      "\u001b[1m1/1\u001b[0m \u001b[32m━━━━━━━━━━━━━━━━━━━━\u001b[0m\u001b[37m\u001b[0m \u001b[1m0s\u001b[0m 44ms/step\n",
      "\u001b[1m1/1\u001b[0m \u001b[32m━━━━━━━━━━━━━━━━━━━━\u001b[0m\u001b[37m\u001b[0m \u001b[1m0s\u001b[0m 43ms/step\n",
      "\u001b[1m1/1\u001b[0m \u001b[32m━━━━━━━━━━━━━━━━━━━━\u001b[0m\u001b[37m\u001b[0m \u001b[1m0s\u001b[0m 21ms/step"
     ]
    },
    {
     "name": "stderr",
     "output_type": "stream",
     "text": [
      "C:\\Users\\s\\AppData\\Local\\Temp\\ipykernel_25444\\1054521108.py:11: DeprecationWarning: Conversion of an array with ndim > 0 to a scalar is deprecated, and will error in future. Ensure you extract a single element from your array before performing this operation. (Deprecated NumPy 1.25.)\n",
      "  pred_reshaped[0, 0] = pred_scaled[0]\n",
      "C:\\Users\\s\\AppData\\Local\\Temp\\ipykernel_25444\\1054521108.py:11: DeprecationWarning: Conversion of an array with ndim > 0 to a scalar is deprecated, and will error in future. Ensure you extract a single element from your array before performing this operation. (Deprecated NumPy 1.25.)\n",
      "  pred_reshaped[0, 0] = pred_scaled[0]\n"
     ]
    },
    {
     "name": "stdout",
     "output_type": "stream",
     "text": [
      "\u001b[1m1/1\u001b[0m \u001b[32m━━━━━━━━━━━━━━━━━━━━\u001b[0m\u001b[37m\u001b[0m \u001b[1m0s\u001b[0m 42ms/step\n",
      "\u001b[1m1/1\u001b[0m \u001b[32m━━━━━━━━━━━━━━━━━━━━\u001b[0m\u001b[37m\u001b[0m \u001b[1m0s\u001b[0m 42ms/step\n",
      "\u001b[1m1/1\u001b[0m \u001b[32m━━━━━━━━━━━━━━━━━━━━\u001b[0m\u001b[37m\u001b[0m \u001b[1m0s\u001b[0m 25ms/step"
     ]
    },
    {
     "name": "stderr",
     "output_type": "stream",
     "text": [
      "C:\\Users\\s\\AppData\\Local\\Temp\\ipykernel_25444\\1054521108.py:11: DeprecationWarning: Conversion of an array with ndim > 0 to a scalar is deprecated, and will error in future. Ensure you extract a single element from your array before performing this operation. (Deprecated NumPy 1.25.)\n",
      "  pred_reshaped[0, 0] = pred_scaled[0]\n",
      "C:\\Users\\s\\AppData\\Local\\Temp\\ipykernel_25444\\1054521108.py:11: DeprecationWarning: Conversion of an array with ndim > 0 to a scalar is deprecated, and will error in future. Ensure you extract a single element from your array before performing this operation. (Deprecated NumPy 1.25.)\n",
      "  pred_reshaped[0, 0] = pred_scaled[0]\n"
     ]
    },
    {
     "name": "stdout",
     "output_type": "stream",
     "text": [
      "\u001b[1m1/1\u001b[0m \u001b[32m━━━━━━━━━━━━━━━━━━━━\u001b[0m\u001b[37m\u001b[0m \u001b[1m0s\u001b[0m 44ms/step\n",
      "\u001b[1m1/1\u001b[0m \u001b[32m━━━━━━━━━━━━━━━━━━━━\u001b[0m\u001b[37m\u001b[0m \u001b[1m0s\u001b[0m 44ms/step\n"
     ]
    },
    {
     "name": "stderr",
     "output_type": "stream",
     "text": [
      "C:\\Users\\s\\AppData\\Local\\Temp\\ipykernel_25444\\1054521108.py:11: DeprecationWarning: Conversion of an array with ndim > 0 to a scalar is deprecated, and will error in future. Ensure you extract a single element from your array before performing this operation. (Deprecated NumPy 1.25.)\n",
      "  pred_reshaped[0, 0] = pred_scaled[0]\n",
      "C:\\Users\\s\\AppData\\Local\\Temp\\ipykernel_25444\\1054521108.py:11: DeprecationWarning: Conversion of an array with ndim > 0 to a scalar is deprecated, and will error in future. Ensure you extract a single element from your array before performing this operation. (Deprecated NumPy 1.25.)\n",
      "  pred_reshaped[0, 0] = pred_scaled[0]\n"
     ]
    }
   ],
   "source": [
    "results_df = evaluatePredictions(testData, model, trainData, scaler)"
   ]
  },
  {
   "cell_type": "code",
   "execution_count": 49,
   "id": "df9c81fa-dcd0-4d8d-8531-04c564da18d6",
   "metadata": {},
   "outputs": [
    {
     "name": "stdout",
     "output_type": "stream",
     "text": [
      "\n",
      "Prediction Results Summary:\n",
      "Mean Absolute Error: 1.32\n",
      "Median Absolute Error: 1.28\n",
      "\n",
      "Top 5 Most Accurate Predictions:\n",
      "    county_id  actual  predicted     error\n",
      "4        1009    13.7  13.934692  0.234692\n",
      "6        1013    13.8  14.048081  0.248081\n",
      "15       1031    14.6  14.122941  0.477059\n",
      "8        1017    13.3  13.928321  0.628321\n",
      "9        1019    14.7  13.986006  0.713994\n",
      "\n",
      "Top 5 Least Accurate Predictions:\n",
      "    county_id  actual  predicted     error\n",
      "2        1005    17.8  14.151394  3.648606\n",
      "1        1003    11.8  14.140072  2.340072\n",
      "12       1025    16.3  14.058573  2.241427\n",
      "19       1039    15.9  14.001964  1.898036\n",
      "5        1011    15.6  13.998015  1.601985\n"
     ]
    }
   ],
   "source": [
    "print(\"\\nPrediction Results Summary:\")\n",
    "print(f\"Mean Absolute Error: {results_df['error'].mean():.2f}\")\n",
    "print(f\"Median Absolute Error: {results_df['error'].median():.2f}\")\n",
    "print(\"\\nTop 5 Most Accurate Predictions:\")\n",
    "print(results_df.nsmallest(5, 'error')[['county_id', 'actual', 'predicted', 'error']])\n",
    "print(\"\\nTop 5 Least Accurate Predictions:\")\n",
    "print(results_df.nlargest(5, 'error')[['county_id', 'actual', 'predicted', 'error']])"
   ]
  },
  {
   "cell_type": "code",
   "execution_count": null,
   "id": "65d107a2-85c2-4a38-8776-c346f0f35526",
   "metadata": {},
   "outputs": [],
   "source": []
  }
 ],
 "metadata": {
  "kernelspec": {
   "display_name": "Python 3 (ipykernel)",
   "language": "python",
   "name": "python3"
  },
  "language_info": {
   "codemirror_mode": {
    "name": "ipython",
    "version": 3
   },
   "file_extension": ".py",
   "mimetype": "text/x-python",
   "name": "python",
   "nbconvert_exporter": "python",
   "pygments_lexer": "ipython3",
   "version": "3.12.7"
  }
 },
 "nbformat": 4,
 "nbformat_minor": 5
}
